{
 "cells": [
  {
   "cell_type": "markdown",
   "metadata": {},
   "source": [
    "Transforms常用于图片转换\n",
    "\n",
    "**图片 -> transforms.Totensor() -> resize -> 结果**"
   ]
  },
  {
   "cell_type": "markdown",
   "metadata": {},
   "source": [
    "PyTorch 的 transforms 库是 torchvision 模块的一部分，主要用于图像数据的预处理和增强。它提供了一系列常用的图像变换操作，可以在训练和推理过程中对图像进行处理：\n",
    "\n",
    "- 归一化 (Normalize)：将图像的像素值归一化到特定范围内\n",
    "- 尺寸变化 (Resize)：调整图像的尺寸\n",
    "- 随机裁剪 (RandomCrop)：随机裁剪图像的一部分\n",
    "- 水平翻转 (RandomHorizontalFlip)：随机水平翻转图像\n",
    "- 转换为张量 (ToTensor)：将图像转换为 PyTorch 张量格式(Tensor数据类型)\n",
    "- 颜色抖动 (ColorJitter)：随机改变图像的亮度、对比度和饱和度12.\n",
    "\n",
    "这些变换操作可以通过 transforms.Compose 组合在一起，以便在加载数据时一次性应用多个变换"
   ]
  },
  {
   "cell_type": "code",
   "execution_count": 32,
   "metadata": {},
   "outputs": [],
   "source": [
    "from torchvision import transforms"
   ]
  },
  {
   "cell_type": "code",
   "execution_count": 33,
   "metadata": {},
   "outputs": [],
   "source": [
    "from PIL import Image\n",
    "img = Image.open(r\"C:\\Users\\夜袭张怀民\\Desktop\\Py\\DL_PT\\data_train\\dandelion\\img2.jpg\")"
   ]
  },
  {
   "cell_type": "code",
   "execution_count": 34,
   "metadata": {},
   "outputs": [],
   "source": [
    "tensor_trans = transforms.ToTensor()\n",
    "tensor_img = tensor_trans(img)  # -> Tensor(三维数组)\n",
    "# transforms.ToPILImage() 可将Tensor 或 ndarray 转为 PIL image 对象"
   ]
  },
  {
   "cell_type": "markdown",
   "metadata": {},
   "source": [
    "Tensorboard传入tensor数据类型参数"
   ]
  },
  {
   "cell_type": "code",
   "execution_count": 35,
   "metadata": {},
   "outputs": [],
   "source": [
    "from torch.utils.tensorboard import SummaryWriter\n",
    "writer = SummaryWriter(\"logs\")\n",
    "writer.add_image(\"Tensor_img\",tensor_img,0)"
   ]
  },
  {
   "cell_type": "markdown",
   "metadata": {},
   "source": [
    "归一化 (Normalize)"
   ]
  },
  {
   "cell_type": "code",
   "execution_count": 36,
   "metadata": {},
   "outputs": [],
   "source": [
    "trans_normal = transforms.Normalize(mean=[0.5,0.5,0.5],std=[0.5,0.5,0.5])   # 传入均值mean,标准差std\n",
    "normal_img = trans_normal(tensor_img)   # 将tensor对象归一化\n",
    "writer.add_image(\"Normal_img\",normal_img,1)"
   ]
  },
  {
   "cell_type": "markdown",
   "metadata": {},
   "source": [
    "尺寸变化 (Resize)"
   ]
  },
  {
   "cell_type": "code",
   "execution_count": 37,
   "metadata": {},
   "outputs": [],
   "source": [
    "trans_resize = transforms.Resize((256,256)) # 传入尺寸\n",
    "resize_img = trans_resize(tensor_img)   # 将tensor对象尺寸变换\n",
    "writer.add_image(\"Resize_img\",resize_img)\n",
    "writer.close()"
   ]
  },
  {
   "cell_type": "markdown",
   "metadata": {},
   "source": [
    "其他的处理方式, 形式都一样"
   ]
  }
 ],
 "metadata": {
  "kernelspec": {
   "display_name": "py39",
   "language": "python",
   "name": "python3"
  },
  "language_info": {
   "codemirror_mode": {
    "name": "ipython",
    "version": 3
   },
   "file_extension": ".py",
   "mimetype": "text/x-python",
   "name": "python",
   "nbconvert_exporter": "python",
   "pygments_lexer": "ipython3",
   "version": "3.9.19"
  }
 },
 "nbformat": 4,
 "nbformat_minor": 2
}
