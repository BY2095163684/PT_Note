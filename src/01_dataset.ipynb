{
 "cells": [
  {
   "cell_type": "markdown",
   "metadata": {},
   "source": [
    "Dataset: 数据集,按编号读取,每\"个\"数据对应一个label"
   ]
  },
  {
   "cell_type": "markdown",
   "metadata": {},
   "source": [
    "PyTorch提供了多种数据集工具，主要通过`torch.utils.data.Dataset`和`torch.utils.data.DataLoader`来管理和加载数据：\n",
    "\n",
    "- 内置数据集：PyTorch的torchvision.datasets模块提供了许多常用的数据集，例如MNIST、CIFAR-10、ImageNet等。这些数据集可以直接使用，非常方便。\n",
    "- 自定义数据集：可以通过继承torch.utils.data.Dataset类来创建自己的数据集。需要实现__len__和__getitem__方法"
   ]
  },
  {
   "cell_type": "code",
   "execution_count": null,
   "metadata": {},
   "outputs": [],
   "source": [
    "from torch.utils.data import Dataset"
   ]
  },
  {
   "cell_type": "code",
   "execution_count": null,
   "metadata": {},
   "outputs": [],
   "source": [
    "help(Dataset)"
   ]
  },
  {
   "cell_type": "code",
   "execution_count": null,
   "metadata": {},
   "outputs": [],
   "source": [
    "Dataset??"
   ]
  },
  {
   "cell_type": "code",
   "execution_count": null,
   "metadata": {},
   "outputs": [],
   "source": [
    "from PIL import Image\n",
    "img = Image.open(r\"C:\\Users\\夜袭张怀民\\Desktop\\Py\\DL_PT\\data_train\\dandelion\\img1.jpg\")\n",
    "img.show()"
   ]
  },
  {
   "cell_type": "code",
   "execution_count": null,
   "metadata": {},
   "outputs": [],
   "source": [
    "import os\n",
    "root_dir = \"C:\\\\Users\\\\夜袭张怀民\\\\Desktop\\\\Py\\\\DL_PT\\\\data_train\"\n",
    "dandelion_label_dir = \"dandelion\"\n",
    "img_path = os.path.join(root_dir,dandelion_label_dir)\n",
    "img_path_list = os.listdir(img_path)\n",
    "img_path_list = [img_path+\"\\\\\"+i for i in img_path_list]\n",
    "img_path_list = img_path_list[1:]\n",
    "print(img_path_list)"
   ]
  },
  {
   "cell_type": "code",
   "execution_count": null,
   "metadata": {},
   "outputs": [],
   "source": [
    "class Mydata(Dataset):  # 自定义Dataset类都要继承Dataset父类\n",
    "    def __init__(self,root_dir,label_dir):\n",
    "        self.root_dir = root_dir\n",
    "        self.label_dir = label_dir\n",
    "        self.path = os.path.join(self.root_dir,self.label_dir)\n",
    "        self.img_path = os.listdir(self.path)\n",
    "\n",
    "    def __getitem__(self,idx):  # 魔术方法,实例化A,调用A[n int]时自动调用__getitem__()\n",
    "        img_name = self.img_path[idx]\n",
    "        img_item_path = os.path.join(self.root_dir,self.label_dir,img_name)\n",
    "        img = Image.open(img_item_path)\n",
    "        label = self.label_dir\n",
    "        return img,label\n",
    "    \n",
    "    def __len__(self):  # 重写__len__()可以让两个对象之间相加合并\n",
    "        return len(self.img_path)\n",
    "    \n",
    "\n",
    "mydata = Mydata(root_dir,dandelion_label_dir) # 至此得到数据集\n",
    "img,label = mydata[5]\n",
    "img.show()"
   ]
  }
 ],
 "metadata": {
  "kernelspec": {
   "display_name": "py39",
   "language": "python",
   "name": "python3"
  },
  "language_info": {
   "codemirror_mode": {
    "name": "ipython",
    "version": 3
   },
   "file_extension": ".py",
   "mimetype": "text/x-python",
   "name": "python",
   "nbconvert_exporter": "python",
   "pygments_lexer": "ipython3",
   "version": "3.9.19"
  }
 },
 "nbformat": 4,
 "nbformat_minor": 2
}
