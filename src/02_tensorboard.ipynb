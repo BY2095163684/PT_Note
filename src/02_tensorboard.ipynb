{
 "cells": [
  {
   "cell_type": "markdown",
   "metadata": {},
   "source": [
    "```\n",
    "conda install tensorboard=2.10.0\n",
    "```"
   ]
  },
  {
   "cell_type": "markdown",
   "metadata": {},
   "source": [
    "TensorBoard 是一个用于可视化和监控机器学习模型的工具，最初是为 TensorFlow 设计的，但现在也支持其他框架如 PyTorch12。它的主要功能包括：\n",
    "\n",
    "- 可视化模型架构：展示神经网络的结构。\n",
    "- 跟踪模型指标：如损失和准确性等。\n",
    "- 检查工作流程中的权重、偏差等组件的直方图。\n",
    "- 显示非表格数据：包括图像、文本和音频。\n",
    "- 高维嵌入投影：将高维数据投影到低维空间以便于可视化"
   ]
  },
  {
   "cell_type": "markdown",
   "metadata": {},
   "source": [
    "**Anaconda Prompt对应环境,运行 `tensorboard --logdir=logs --port=6007` 命令, logdir是事件文件所在文件夹, port端口**"
   ]
  },
  {
   "cell_type": "code",
   "execution_count": null,
   "metadata": {},
   "outputs": [],
   "source": [
    "from torch.utils.tensorboard import SummaryWriter\n",
    "writer = SummaryWriter(\"logs\")\n",
    "# writer.add_image()    # 常用来观察训练结果,global_step用于记录当前图像对应的训练步数\n",
    "# writer.add_scalar()   # 常用来绘制train/val loss, tag 标题, scalar y轴,grobal x轴\n",
    "# writer.close()"
   ]
  },
  {
   "cell_type": "code",
   "execution_count": null,
   "metadata": {},
   "outputs": [],
   "source": [
    "for i in range(100):\n",
    "    writer.add_scalar(\"y=2x\",i*2,i)"
   ]
  },
  {
   "cell_type": "code",
   "execution_count": null,
   "metadata": {},
   "outputs": [],
   "source": [
    "from PIL import Image\n",
    "import numpy as np\n",
    "img = Image.open(r\"..\\data_train\\dandelion\\img1.jpg\")   # type(img) -> <class 'PIL.JpegImagePlugin.JpegImageFile'>\n",
    "img_array = np.array(img)   # 转ndarray,以满足add_image()参数\n",
    "print(img_array.shape)      # img_array.shape -> (H, W, 3)\n",
    "writer.add_image(\"test\",img_array,1,dataformats='HWC')  # 按注释文档转换格式\n",
    "writer.close()"
   ]
  }
 ],
 "metadata": {
  "kernelspec": {
   "display_name": "py39",
   "language": "python",
   "name": "python3"
  },
  "language_info": {
   "codemirror_mode": {
    "name": "ipython",
    "version": 3
   },
   "file_extension": ".py",
   "mimetype": "text/x-python",
   "name": "python",
   "nbconvert_exporter": "python",
   "pygments_lexer": "ipython3",
   "version": "3.9.19"
  }
 },
 "nbformat": 4,
 "nbformat_minor": 2
}
