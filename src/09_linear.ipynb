{
 "cells": [
  {
   "cell_type": "markdown",
   "metadata": {},
   "source": [
    "PyTorch 的 Linear 层是一个非常基础的神经网络模块，它对输入数据应用线性变换。具体来说，它执行：\n",
    "\n",
    "y=xA^T+b\n",
    "\n",
    "其中，x是输入，A是权重矩阵，b是偏置向量，y是输出\n",
    "\n",
    "主要参数:\n",
    "- in_features: 输入样本的大小。\n",
    "- out_features: 输出样本的大小。\n",
    "- bias: 是否学习一个附加的偏置。如果设置为 False，则层不会学习偏置。默认值为 True\n",
    "\n",
    "线性层通常用于神经网络的全连接层，特别是在多层感知器（MLP）和卷积神经网络（CNN）的最后几层中"
   ]
  },
  {
   "cell_type": "code",
   "execution_count": null,
   "metadata": {},
   "outputs": [],
   "source": [
    "import torch\n",
    "import torch.nn as nn\n",
    "\n",
    "# 创建一个线性层\n",
    "linear_layer = nn.Linear(in_features=20, out_features=30)\n",
    "\n",
    "# 创建一个随机输入张量\n",
    "input_tensor = torch.randn(128, 20)\n",
    "\n",
    "# 通过线性层进行前向传播\n",
    "output_tensor = linear_layer(input_tensor)\n",
    "\n",
    "print(output_tensor.size())  # 输出: torch.Size([128, 30])"
   ]
  }
 ],
 "metadata": {
  "kernelspec": {
   "display_name": "py39",
   "language": "python",
   "name": "python3"
  },
  "language_info": {
   "name": "python",
   "version": "3.9.19"
  }
 },
 "nbformat": 4,
 "nbformat_minor": 2
}
