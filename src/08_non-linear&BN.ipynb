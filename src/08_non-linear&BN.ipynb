{
 "cells": [
  {
   "cell_type": "markdown",
   "metadata": {},
   "source": [
    "在PyTorch中，非线性激活函数是神经网络中非常重要的一部分。它们在线性变换之后应用，以引入非线性，从而帮助神经网络学习复杂的模式和关系：\n",
    "- **ReLU** (Rectified Linear Unit): f(x)=max(0,x)\n",
    "    - 非常常用，计算简单，能够有效缓解梯度消失问题。\n",
    "- **Sigmoid**: f(x)=1 / [ 1+e^(-x) ]\n",
    "    - 将输入映射到 (0, 1) 之间，常用于二分类问题。\n",
    "- **Tanh** (Hyperbolic Tangent): f(x)=tanh(x)=[ e^x-e^(-x) ] / [ e^x + e^(-x) ]\n",
    "    - 将输入映射到 (-1, 1) 之间，通常比Sigmoid效果更好。\n",
    "- **Leaky ReLU**: f(x)=max(0.01x,x)\n",
    "    - 类似于ReLU，但允许负值通过，解决了ReLU的“死亡”问题。\n",
    "- **Softmax**: f(xi​)=e^xi / Σj e^xj\n",
    "    - 常用于多分类问题，将输入转换为概率分布。\n",
    "\n",
    "这些激活函数可以通过`torch.nn`模块中的类或`torch.nn.functional`模块中的函数来使用"
   ]
  },
  {
   "cell_type": "code",
   "execution_count": null,
   "metadata": {},
   "outputs": [],
   "source": [
    "import torch\n",
    "input = torch.tensor([[1,-0.5],[-1,3]])\n",
    "input = torch.reshape(input,(-1,1,2,2))\n",
    "print(input.shape)"
   ]
  },
  {
   "cell_type": "code",
   "execution_count": null,
   "metadata": {},
   "outputs": [],
   "source": [
    "from torch import nn\n",
    "from torch.nn import ReLU\n",
    "\n",
    "class MyCNN(nn.Module):\n",
    "    def __init__(self):\n",
    "        super(MyCNN,self).__init__()\n",
    "        self.relu1 = ReLU()\n",
    "\n",
    "    def forward(self,input):\n",
    "        output = self.relu1(input)\n",
    "        return output\n",
    "    \n",
    "mycnn = MyCNN()\n",
    "output = mycnn(input)\n",
    "print(output)"
   ]
  },
  {
   "cell_type": "markdown",
   "metadata": {},
   "source": [
    "在PyTorch中，BatchNorm2d 是一个用于对4D输入（通常是图像数据）进行批量归一化的类。批量归一化有助于加速神经网络的训练并提高其稳定性。主要参数：\n",
    "- num_features: 输入的通道数（即特征数量）。\n",
    "- eps: 为了数值稳定性而加到分母上的一个小值，默认值为1e-5。\n",
    "- momentum: 用于计算运行均值和方差的动量，默认值为0.1。\n",
    "- affine: 如果设置为True，该层将有可学习的仿射参数（即缩放和偏移），默认值为True。\n",
    "- track_running_stats: 如果设置为True，该层将跟踪运行均值和方差，否则将使用批量统计数据，默认值为True。"
   ]
  },
  {
   "cell_type": "code",
   "execution_count": null,
   "metadata": {},
   "outputs": [],
   "source": [
    "import torch\n",
    "import torch.nn as nn\n",
    "\n",
    "# 定义BatchNorm2d层\n",
    "batch_norm = nn.BatchNorm2d(num_features=64)\n",
    "\n",
    "# 假设输入是一个形状为 (batch_size, num_features, height, width) 的张量\n",
    "input_tensor = torch.randn(32, 64, 128, 128)\n",
    "\n",
    "# 应用BatchNorm2d\n",
    "output_tensor = batch_norm(input_tensor)"
   ]
  }
 ],
 "metadata": {
  "kernelspec": {
   "display_name": "py39",
   "language": "python",
   "name": "python3"
  },
  "language_info": {
   "codemirror_mode": {
    "name": "ipython",
    "version": 3
   },
   "file_extension": ".py",
   "mimetype": "text/x-python",
   "name": "python",
   "nbconvert_exporter": "python",
   "pygments_lexer": "ipython3",
   "version": "3.9.19"
  }
 },
 "nbformat": 4,
 "nbformat_minor": 2
}
