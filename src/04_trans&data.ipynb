{
 "cells": [
  {
   "cell_type": "markdown",
   "metadata": {},
   "source": [
    "Torchvision 是 PyTorch 的一个库，专门用于计算机视觉任务。它包含了流行的数据集、模型架构和常见的图像变换。以下是一些主要功能：\n",
    "\n",
    "- 数据集：提供了多个常用的计算机视觉数据集，如 CIFAR-10、ImageNet 等，方便加载和预处理。\n",
    "- 模型：包括预训练的模型，如 ResNet、VGG、MobileNet 等，可以直接用于图像分类、目标检测、实例分割等任务。\n",
    "- 图像变换：提供了多种图像变换方法，如裁剪、旋转、归一化等，方便数据增强和预处理"
   ]
  },
  {
   "cell_type": "code",
   "execution_count": null,
   "metadata": {},
   "outputs": [],
   "source": [
    "import torchvision\n",
    "train_set = torchvision.datasets.CIFAR10(root=r\"..\\data\\train\",train=True,download=True)   # 训练集\n",
    "test_set = torchvision.datasets.CIFAR10(root=r\"..\\data\\test\",train=False,download=True)   # 测试集"
   ]
  },
  {
   "cell_type": "code",
   "execution_count": null,
   "metadata": {},
   "outputs": [],
   "source": [
    "print(train_set[0])\n",
    "print(train_set.classes)\n",
    "img,target = train_set[0]\n",
    "print(img,target)\n",
    "print(train_set.classes[target])"
   ]
  },
  {
   "cell_type": "code",
   "execution_count": null,
   "metadata": {},
   "outputs": [],
   "source": [
    "dataset_transform = torchvision.transforms.Compose([    # 整合变换操作\n",
    "    torchvision.transforms.ToTensor()\n",
    "    # ......\n",
    "])\n",
    "\n",
    "# 传入变换操作对象,直接得到变换后的数据集\n",
    "# train_set = torchvision.datasets.CIFAR10(root=r\"..\\data\\train\",train=True,transform=dataset_transform,download=True)   # 训练集\n",
    "# test_set = torchvision.datasets.CIFAR10(root=r\"..\\data\\test\",train=False,transform=dataset_transform,download=True)   # 测试集"
   ]
  },
  {
   "cell_type": "code",
   "execution_count": null,
   "metadata": {},
   "outputs": [],
   "source": [
    "# Tensorboard\n",
    "from torch.utils.tensorboard import SummaryWriter\n",
    "writer = SummaryWriter(\"./logs\")    # \"写入\"对象\n",
    "for i in range(10):\n",
    "    img_test,target_test = test_set[i]  # 测试集前i个\n",
    "    writer.add_image(\"test_set\",img,i)  # (标题,Tensor对象,训练步数)\n",
    "writer.close()  # 记得关"
   ]
  }
 ],
 "metadata": {
  "kernelspec": {
   "display_name": "py39",
   "language": "python",
   "name": "python3"
  },
  "language_info": {
   "codemirror_mode": {
    "name": "ipython",
    "version": 3
   },
   "file_extension": ".py",
   "mimetype": "text/x-python",
   "name": "python",
   "nbconvert_exporter": "python",
   "pygments_lexer": "ipython3",
   "version": "3.9.19"
  }
 },
 "nbformat": 4,
 "nbformat_minor": 2
}
