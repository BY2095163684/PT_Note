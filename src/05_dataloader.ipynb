{
 "cells": [
  {
   "cell_type": "markdown",
   "metadata": {},
   "source": [
    "Dataloader: 数据加载器,以某种规范打包数据集"
   ]
  },
  {
   "cell_type": "markdown",
   "metadata": {},
   "source": [
    "PyTorch的DataLoader库是一个非常强大的工具，用于加载和预处理深度学习模型的数据：\n",
    "\n",
    "- 数据加载：DataLoader可以从文件中加载数据，也可以生成合成数据。它支持两种数据集类型：映射式数据集（map-style datasets）和可迭代数据集（iterable-style datasets）\n",
    "- 批处理：DataLoader可以自动将数据分成小批次（mini-batches），这对于训练深度学习模型非常重要\n",
    "- 多进程数据加载：DataLoader支持单进程和多进程数据加载，可以通过设置num_workers参数来控制\n",
    "- 数据顺序和采样：可以自定义数据加载顺序和采样方法，例如随机打乱数据顺序或使用自定义采样器\n",
    "- 内存固定：通过设置pin_memory参数，可以将数据固定在内存中，以提高数据加载的效率"
   ]
  },
  {
   "cell_type": "code",
   "execution_count": null,
   "metadata": {},
   "outputs": [],
   "source": [
    "import torchvision\n",
    "# 准备的测试数据集\n",
    "test_data = torchvision.datasets.CIFAR10(root=r\"..\\data\\test\",train=False,transform=torchvision.transforms.ToTensor())"
   ]
  },
  {
   "cell_type": "code",
   "execution_count": null,
   "metadata": {},
   "outputs": [],
   "source": [
    "from torch.utils.data import DataLoader\n",
    "# Dataset -> DataLoader(数据集,每次抽样数,每轮后是否重排数据,进程数,是否舍弃除不尽的余数)\n",
    "test_loader = DataLoader(dataset=test_data,batch_size=4,shuffle=True,num_workers=0,drop_last=False) # 默认随机抽样"
   ]
  },
  {
   "cell_type": "markdown",
   "metadata": {},
   "source": [
    "\n",
    "dataset返回(image, target),假设有10组数据\n",
    "\n",
    "`batch_size=4`能取dataset[0~3]的(image, target)作一组,返回一组(iamges,targets)"
   ]
  },
  {
   "cell_type": "code",
   "execution_count": null,
   "metadata": {},
   "outputs": [],
   "source": [
    "for data in test_loader:\n",
    "    imgs,targets = data\n",
    "    print(imgs.shape)\n",
    "    print(targets)"
   ]
  },
  {
   "cell_type": "code",
   "execution_count": null,
   "metadata": {},
   "outputs": [],
   "source": [
    "from torch.utils.tensorboard import SummaryWriter\n",
    "writer = SummaryWriter(\"./logs\")\n",
    "step = 0\n",
    "for data in test_loader:\n",
    "    imgs,targets = data\n",
    "    writer.add_images(\"test_data\",imgs,step)    # 多个Tensor对象\n",
    "    step += 1"
   ]
  }
 ],
 "metadata": {
  "kernelspec": {
   "display_name": "py39",
   "language": "python",
   "name": "python3"
  },
  "language_info": {
   "codemirror_mode": {
    "name": "ipython",
    "version": 3
   },
   "file_extension": ".py",
   "mimetype": "text/x-python",
   "name": "python",
   "nbconvert_exporter": "python",
   "pygments_lexer": "ipython3",
   "version": "3.9.19"
  }
 },
 "nbformat": 4,
 "nbformat_minor": 2
}
