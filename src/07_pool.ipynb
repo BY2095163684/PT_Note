{
 "cells": [
  {
   "cell_type": "markdown",
   "metadata": {},
   "source": [
    "PyTorch 提供了几种常见的池化层，用于减少特征图的尺寸，从而减少网络中的参数数量和计算量：\n",
    "\n",
    "- MaxPool2d(下采样): 适用于2D输入信号（如图像），通过取窗口内的最大值来进行池化\n",
    "- MaxPool1d: 适用于1D输入信号（如时间序列数据），同样通过取窗口内的最大值来进行池化\n",
    "- AveragePool2d: 适用于2D输入信号，通过取窗口内的平均值来进行池化\n",
    "\n",
    "这些池化层通常用于卷积层之后，以压缩和概括特征表示"
   ]
  },
  {
   "cell_type": "markdown",
   "metadata": {},
   "source": [
    "池化与卷积主要区别\n",
    "- 计算方式：\n",
    "    - 卷积：通过卷积核在输入数据上滑动，计算加权和\n",
    "    - 池化：通过在输入特征图上滑动窗口，选择窗口内的最大值或平均值\n",
    "- 目的：\n",
    "    - 卷积：提取和增强输入数据中的特征\n",
    "    - 池化：减少特征图的尺寸，降低计算复杂度，并增强模型的鲁棒性"
   ]
  },
  {
   "cell_type": "code",
   "execution_count": null,
   "metadata": {},
   "outputs": [],
   "source": [
    "import torch\n",
    "input = torch.tensor([[1,2,0,3,1],\n",
    "                      [0,1,2,3,1],\n",
    "                      [1,2,1,0,0],\n",
    "                      [5,2,3,1,1],\n",
    "                      [2,1,0,1,1]])\n",
    "input = torch.reshape(input,(-1,1,5,5))\n",
    "print(input.shape)"
   ]
  },
  {
   "cell_type": "code",
   "execution_count": null,
   "metadata": {},
   "outputs": [],
   "source": [
    "from torch import nn\n",
    "from torch.nn import MaxPool2d\n",
    "\n",
    "class MyCNN(nn.Module):\n",
    "    def __init__(self):\n",
    "        super(MyCNN,self).__init__()\n",
    "        self.maxpool1 = MaxPool2d(kernel_size=3,ceil_mode=True)\n",
    "\n",
    "    def forward(self,input):\n",
    "        output = self.maxpool1(input)\n",
    "        return output\n",
    "\n",
    "mycnn = MyCNN()\n",
    "output = mycnn(input)\n",
    "print(output)"
   ]
  }
 ],
 "metadata": {
  "kernelspec": {
   "display_name": "py39",
   "language": "python",
   "name": "python3"
  },
  "language_info": {
   "codemirror_mode": {
    "name": "ipython",
    "version": 3
   },
   "file_extension": ".py",
   "mimetype": "text/x-python",
   "name": "python",
   "nbconvert_exporter": "python",
   "pygments_lexer": "ipython3",
   "version": "3.9.19"
  }
 },
 "nbformat": 4,
 "nbformat_minor": 2
}
